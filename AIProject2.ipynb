{
  "cells": [
    {
      "cell_type": "markdown",
      "metadata": {
        "id": "zOmV_rbIjVBT"
      },
      "source": [
        "# FOL Forward Chaining"
      ]
    },
    {
      "cell_type": "markdown",
      "metadata": {},
      "source": [
        "By Pranshu Acharya (02118866) & Abhinandan Varma Nadimpalli (02072062)"
      ]
    },
    {
      "cell_type": "markdown",
      "metadata": {},
      "source": [
        "## readKB()"
      ]
    },
    {
      "cell_type": "code",
      "execution_count": 1,
      "metadata": {
        "id": "FZjS94fnVlRX"
      },
      "outputs": [],
      "source": [
        "def readKB():\n",
        "  f = open(\"files/KB.txt\", \"r\") #Opening the file on readmode\n",
        "  lines = f.readlines()\n",
        "  KB = []\n",
        "\n",
        "  for line in lines:\n",
        "      if line.endswith('\\n'):\n",
        "          line = line[:-1]  #Removing the last character (newline character)\n",
        "      KB.append(line)\n",
        "\n",
        "  f.close()  #Closing the file after reading\n",
        "  return KB"
      ]
    },
    {
      "cell_type": "markdown",
      "metadata": {},
      "source": [
        "## readQueries()"
      ]
    },
    {
      "cell_type": "code",
      "execution_count": 2,
      "metadata": {
        "id": "_4xIXDHUVqc-"
      },
      "outputs": [],
      "source": [
        "def readQueries():\n",
        "  f = open(\"files/queries.txt\", \"r\")\n",
        "  lines = f.readlines()\n",
        "  queries = []\n",
        "\n",
        "  for line in lines:\n",
        "      if line.endswith('\\n'):\n",
        "          line = line[:-1]  \n",
        "      queries.append(line)\n",
        "\n",
        "  f.close() \n",
        "  return queries"
      ]
    },
    {
      "cell_type": "markdown",
      "metadata": {},
      "source": [
        "## initOutput()"
      ]
    },
    {
      "cell_type": "code",
      "execution_count": 3,
      "metadata": {
        "id": "QocHkd84Y6fQ"
      },
      "outputs": [],
      "source": [
        "def initOutput():\n",
        "  f=open(\"files/output.txt\",\"w\") #Opening the file in write mode \n",
        "  f.close()"
      ]
    },
    {
      "cell_type": "markdown",
      "metadata": {},
      "source": [
        "## output()"
      ]
    },
    {
      "cell_type": "code",
      "execution_count": 4,
      "metadata": {
        "id": "5sXZMY-sXjRH"
      },
      "outputs": [],
      "source": [
        "def output(query,result):\n",
        "  f = open(\"files/output.txt\", \"a\")\n",
        "  f.write(f\"Query: {query}; Answer: {result}\\n\")\n",
        "  f.close()"
      ]
    },
    {
      "cell_type": "markdown",
      "metadata": {},
      "source": [
        "## matchRules()"
      ]
    },
    {
      "cell_type": "code",
      "execution_count": 5,
      "metadata": {
        "id": "3bDWrkV9Vh_b"
      },
      "outputs": [],
      "source": [
        "def matchRules(rule, fact):\n",
        "    al, ar = rule.split(\"(\") #Splitting into the Verb and variable\n",
        "    bl, br = fact.split(\"(\")\n",
        "    if al == bl: #Check if its the same FOL\n",
        "        a_vars = ar[:-1].split(',') #For P(x,y)\n",
        "        b_vars = br[:-1].split(',')\n",
        "        if len(a_vars) == len(b_vars): #Replace the variable\n",
        "            a_vars[0] = a_vars[0].replace(\"(\", \"\").replace(\")\", \"\")\n",
        "            b_vars[0] = b_vars[0].replace(\"(\", \"\").replace(\")\", \"\")\n",
        "\n",
        "            if(len(a_vars)>1): #If there is two variables that need replacing\n",
        "              a_vars[1] = a_vars[1].replace(\"(\", \"\").replace(\")\", \"\")\n",
        "              b_vars[1] = b_vars[1].replace(\"(\", \"\").replace(\")\", \"\")\n",
        "            # print(a_vars)\n",
        "            variable_mappings = {a_var.strip(): b_var.strip() for a_var, b_var in zip(a_vars, b_vars)} #Map the variables using the zip function\n",
        "            # print(variable_mappings)\n",
        "            return variable_mappings\n",
        "    return None"
      ]
    },
    {
      "cell_type": "markdown",
      "metadata": {},
      "source": [
        "## mapVars()"
      ]
    },
    {
      "cell_type": "code",
      "execution_count": 6,
      "metadata": {
        "id": "-AmZN1IdVe6R"
      },
      "outputs": [],
      "source": [
        "def mapVars(f,l,r,maps):\n",
        "  if(\"(y)\" in r): #Use the variable_mappings to return the right part with the new variable\n",
        "    return(r.split(\"y\")[0]+maps['y']+\")\")\n",
        "  else:\n",
        "    return(r.split(\"x\")[0]+maps['x']+\")\")"
      ]
    },
    {
      "cell_type": "markdown",
      "metadata": {},
      "source": [
        "## forwardChaining()"
      ]
    },
    {
      "cell_type": "code",
      "execution_count": 7,
      "metadata": {
        "id": "PrrvkIJJ_hx4"
      },
      "outputs": [],
      "source": [
        "def forwardChaining(KB,Query):\n",
        "\n",
        "  facts = set()\n",
        "\n",
        "  while True:\n",
        "      new_facts = []\n",
        "      for k in KB: #Iterate through all of KB\n",
        "          try:\n",
        "              l, r = k.split(\"=>\") #Split the FOL into Left and Right (L,R)\n",
        "              for fact in facts: #Iterate through all the facts\n",
        "                  if((matchRules(l,fact))): #Check if the L parts match\n",
        "                    new_r=mapVars(fact,l,r,matchRules(l,fact)) #Get the R part with the new variable\n",
        "                    if(new_r.strip() not in facts): #If its a new fact, add into new_facts\n",
        "                      new_facts.append(new_r.strip())\n",
        "          except ValueError: #Value Error is raised when the FOL doesnt have '=>'\n",
        "              if k not in facts:\n",
        "                  new_facts.append(k.strip())\n",
        "      facts.update(new_facts)\n",
        "      if not new_facts: #If no new facts are added, break the loop\n",
        "          break\n",
        "  print(\"Final facts:\", facts)\n",
        "  if Query.strip() in facts: #Strip is used to remove any trailing spaces\n",
        "      print(\"Query is true\")\n",
        "      return True\n",
        "  else:\n",
        "      print(\"Query is false\")\n",
        "      return False"
      ]
    },
    {
      "cell_type": "markdown",
      "metadata": {},
      "source": [
        "## Main Method"
      ]
    },
    {
      "cell_type": "code",
      "execution_count": 9,
      "metadata": {
        "colab": {
          "base_uri": "https://localhost:8080/",
          "height": 381
        },
        "id": "ZI2GKa4lWoYr",
        "outputId": "52f71d2b-2a76-4706-c2a7-c8e4a980872d"
      },
      "outputs": [
        {
          "name": "stdout",
          "output_type": "stream",
          "text": [
            "Final facts: {\"FailedMidterm('Bob')\", \"ReceivesHelpOn('QuadraticEquations')\", \"NeedsHelp('Bob')\", \"StrugglesWith('Amy','QuadraticEquations')\"}\n",
            "Query is true\n",
            "Final facts: {\"FailedMidterm('Bob')\", \"ReceivesHelpOn('QuadraticEquations')\", \"NeedsHelp('Bob')\", \"StrugglesWith('Amy','QuadraticEquations')\"}\n",
            "Query is true\n",
            "Final facts: {\"FailedMidterm('Bob')\", \"ReceivesHelpOn('QuadraticEquations')\", \"NeedsHelp('Bob')\", \"StrugglesWith('Amy','QuadraticEquations')\"}\n",
            "Query is false\n"
          ]
        }
      ],
      "source": [
        "KB = readKB()\n",
        "queries = readQueries()\n",
        "initOutput()\n",
        "for query in queries:\n",
        "  result = forwardChaining(KB,query)\n",
        "  output(query,result)"
      ]
    }
  ],
  "metadata": {
    "colab": {
      "provenance": []
    },
    "kernelspec": {
      "display_name": "Python 3",
      "name": "python3"
    },
    "language_info": {
      "codemirror_mode": {
        "name": "ipython",
        "version": 3
      },
      "file_extension": ".py",
      "mimetype": "text/x-python",
      "name": "python",
      "nbconvert_exporter": "python",
      "pygments_lexer": "ipython3",
      "version": "3.8.0"
    }
  },
  "nbformat": 4,
  "nbformat_minor": 0
}
